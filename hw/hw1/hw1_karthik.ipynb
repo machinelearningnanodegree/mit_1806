{
 "cells": [
  {
   "cell_type": "markdown",
   "metadata": {},
   "source": [
    "# Homework #1\n",
    "please make a copy of this homework and rename it with your own name before you begin!\n",
    "File >> Make a Copy"
   ]
  },
  {
   "cell_type": "code",
   "execution_count": 1,
   "metadata": {
    "collapsed": true
   },
   "outputs": [],
   "source": [
    "import numpy as np"
   ]
  },
  {
   "cell_type": "markdown",
   "metadata": {},
   "source": [
    "1) What combination $c\\begin{bmatrix}1 \\\\ 2\\end{bmatrix}+d\\begin{bmatrix}3\\\\1\\end{bmatrix}$ produces $\\begin{bmatrix}14 \\\\ 8\\end{bmatrix}$? Express this question as two equations for the coefficients $c$ and $d$ in the linear combination.\n"
   ]
  },
  {
   "cell_type": "markdown",
   "metadata": {},
   "source": [
    "x + 3y = 14\n",
    "2x + y = 8\n",
    "=> 5y = 20\n",
    "=> y = 4\n",
    "=> x = 2 \n",
    "\n",
    "=> 2c + 4d"
   ]
  },
  {
   "cell_type": "markdown",
   "metadata": {},
   "source": [
    "2) Write the solution as a sum using `numpy`."
   ]
  },
  {
   "cell_type": "code",
   "execution_count": 2,
   "metadata": {
    "collapsed": false
   },
   "outputs": [
    {
     "data": {
      "text/plain": [
       "array([14,  8])"
      ]
     },
     "execution_count": 2,
     "metadata": {},
     "output_type": "execute_result"
    }
   ],
   "source": [
    "c = 2\n",
    "d = 4\n",
    "c * np.array([1, 2]) + d * np.array([3, 1])"
   ]
  },
  {
   "cell_type": "markdown",
   "metadata": {},
   "source": [
    "3) Can three vectors in the $xy$ plane (i.e. $\\mathbb R^2$) have $\\mathbf u\\cdot\\mathbf v < 0$, $\\mathbf v\\cdot\\mathbf w < 0$, and $\\mathbf u\\cdot\\mathbf w < 0$? I don't know how many vectors in $xyz$ (i.e. $\\mathbb R^3$) space can have all negative dot products. (Four of those vectors in the plane would certainly be impossible ...)."
   ]
  },
  {
   "cell_type": "markdown",
   "metadata": {},
   "source": [
    "Nope, thats not possible, they can't lie in the same plane and have dot products < 0."
   ]
  },
  {
   "cell_type": "markdown",
   "metadata": {},
   "source": [
    "4) Find four perpendicular unit vectors with all components equal to $\\frac{1}{2}$ or $-\\frac{1}{2}$."
   ]
  },
  {
   "cell_type": "markdown",
   "metadata": {},
   "source": [
    "[1/2,  1/2,  1/2,  1/2]  \n",
    "[1/2,  1/2,  1/2, -1/2]  \n",
    "[1/2,  1/2, -1/2, -1/2]  \n",
    "[1/2, -1/2, -1/2, -1/2]  "
   ]
  },
  {
   "cell_type": "markdown",
   "metadata": {},
   "source": [
    "5) Use `numpy` to show that these vectors are unit vectors. "
   ]
  },
  {
   "cell_type": "code",
   "execution_count": 3,
   "metadata": {
    "collapsed": false
   },
   "outputs": [
    {
     "name": "stdout",
     "output_type": "stream",
     "text": [
      "[0.5, 0.5, 0.5, -0.5] 1.0\n",
      "[0.5, -0.5, -0.5, 0.5] 1.0\n",
      "[0.5, 0.5, -0.5, -0.5] 1.0\n",
      "[-0.5, -0.5, -0.5, -0.5] 1.0\n"
     ]
    }
   ],
   "source": [
    "a = [[0.5, 0.5, 0.5, -0.5],[0.5, -0.5, -0.5, 0.5],[0.5, 0.5, -0.5, -0.5],[-0.5, -0.5, -0.5, -0.5]]\n",
    "\n",
    "for i in a:\n",
    "    print i, np.linalg.norm(i)"
   ]
  },
  {
   "cell_type": "markdown",
   "metadata": {
    "collapsed": true
   },
   "source": [
    "6) Find a combination $\\alpha\\mathbf u+\\beta\\mathbf v+\\gamma\\mathbf w$ that gives the zero vector. \n",
    "\n",
    "\\begin{align*}\n",
    "\\mathbf{u}&=\\begin{bmatrix}1 \\\\ 2 \\\\ 3\\end{bmatrix} & \n",
    "\\mathbf{v}&=\\begin{bmatrix}4 \\\\ 5 \\\\ 6\\end{bmatrix} & \n",
    "\\mathbf{w}&=\\begin{bmatrix}7 \\\\ 8 \\\\ 9\\end{bmatrix}\n",
    "\\end{align*}\n",
    "\n",
    "Are $\\mathbf u$, $\\mathbf v$, $\\mathbf w$ independent or dependent? Why? \n",
    "\n",
    "If the three vectors form a matrix $A$ with those columns, is it invertible?\n"
   ]
  },
  {
   "cell_type": "code",
   "execution_count": 7,
   "metadata": {
    "collapsed": false
   },
   "outputs": [
    {
     "name": "stdout",
     "output_type": "stream",
     "text": [
      "-4 8 -4\n",
      "-3 6 -3\n",
      "-2 4 -2\n",
      "-1 2 -1\n",
      "0 0 0\n",
      "1 -2 1\n",
      "2 -4 2\n",
      "3 -6 3\n",
      "4 -8 4\n",
      "5 -10 5\n"
     ]
    }
   ],
   "source": [
    "u = np.array([1, 2, 3])\n",
    "v = np.array([4, 5, 6])\n",
    "w = np.array([7, 8, 9])\n",
    "\n",
    "# Lets assume a, b, c => (-10, 10)\n",
    "\n",
    "for i in range(-10, 10):\n",
    "    for j in range(-10, 10):\n",
    "        for k in range(-10, 10):\n",
    "            if np.linalg.norm(i * u + j * v + k * w) == 0:\n",
    "                print i, j, k\n",
    "                break"
   ]
  },
  {
   "cell_type": "markdown",
   "metadata": {},
   "source": [
    "Since there are values where a != b != c != 0, we can say they are dependent. "
   ]
  },
  {
   "cell_type": "code",
   "execution_count": 14,
   "metadata": {
    "collapsed": false
   },
   "outputs": [
    {
     "name": "stdout",
     "output_type": "stream",
     "text": [
      "Not invertible\n"
     ]
    }
   ],
   "source": [
    "x = np.array([[1, 4, 7], [2, 5, 8], [3, 6, 9]])\n",
    "\n",
    "from numpy.linalg import inv, LinAlgError\n",
    "\n",
    "try:\n",
    "    inv(x)\n",
    "except LinAlgError:\n",
    "    print \"Not invertible\""
   ]
  },
  {
   "cell_type": "markdown",
   "metadata": {},
   "source": [
    "7) Write $A$ as a matrix in `numpy`. Display the matrix. \n",
    "\n",
    "**NOTE:** Conversation about row order vs. column order. "
   ]
  },
  {
   "cell_type": "markdown",
   "metadata": {},
   "source": [
    "## Markov Matrices"
   ]
  },
  {
   "cell_type": "markdown",
   "metadata": {},
   "source": [
    "8) You should do this with `numpy`. Start with the vector $\\mathbf u_0 = (1,0)$. Multiply again and again by the same \"Markov matrix\" \n",
    "$A =\\begin{bmatrix}.8 & .2 \\\\ .3 & .7\\end{bmatrix}$. Find $\\mathbf u_i = A\\mathbf u_{i-1}$ for $i\\in[1,3]$"
   ]
  },
  {
   "cell_type": "code",
   "execution_count": 19,
   "metadata": {
    "collapsed": false
   },
   "outputs": [
    {
     "name": "stdout",
     "output_type": "stream",
     "text": [
      "[ 0.8  0.2]\n",
      "[ 0.7  0.3]\n",
      "[ 0.65  0.35]\n"
     ]
    }
   ],
   "source": [
    "u = np.array([1.0, 0.0])\n",
    "A = np.array([[.8, .2], [.3, .7]])\n",
    "\n",
    "u1 = u.dot(A)\n",
    "print u1\n",
    "u2 = u1.dot(A)\n",
    "print u2\n",
    "u3 = u2.dot(A)\n",
    "print u3"
   ]
  },
  {
   "cell_type": "markdown",
   "metadata": {},
   "source": [
    "9) Write a `for` loop to do this through $\\mathbf u_7$. What do you notice about $\\mathbf u_7$?"
   ]
  },
  {
   "cell_type": "code",
   "execution_count": 25,
   "metadata": {
    "collapsed": false
   },
   "outputs": [
    {
     "name": "stdout",
     "output_type": "stream",
     "text": [
      "[ 0.603125  0.396875]\n"
     ]
    }
   ],
   "source": [
    "u_i = u\n",
    "for i in range(1, 8):\n",
    "    u_i = u_i.dot(A)\n",
    "print u_i"
   ]
  },
  {
   "cell_type": "markdown",
   "metadata": {},
   "source": [
    "10) There is a steady-state $\\mathbf u_s$ where $A\\mathbf u_s=\\mathbf u_s$. Find it."
   ]
  },
  {
   "cell_type": "code",
   "execution_count": 31,
   "metadata": {
    "collapsed": false
   },
   "outputs": [
    {
     "name": "stdout",
     "output_type": "stream",
     "text": [
      "[ 0.6  0.4]\n"
     ]
    }
   ],
   "source": [
    "u_i = u\n",
    "for i in range(1000):\n",
    "    u_i = u_i.dot(A)\n",
    "print u_i"
   ]
  }
 ],
 "metadata": {
  "kernelspec": {
   "display_name": "Python 2",
   "language": "python",
   "name": "python2"
  },
  "language_info": {
   "codemirror_mode": {
    "name": "ipython",
    "version": 2
   },
   "file_extension": ".py",
   "mimetype": "text/x-python",
   "name": "python",
   "nbconvert_exporter": "python",
   "pygments_lexer": "ipython2",
   "version": "2.7.12"
  }
 },
 "nbformat": 4,
 "nbformat_minor": 0
}
